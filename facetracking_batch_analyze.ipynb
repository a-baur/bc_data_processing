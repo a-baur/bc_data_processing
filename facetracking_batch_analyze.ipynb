{
 "cells": [
  {
   "cell_type": "markdown",
   "source": [
    "# Analysis of synchrony across all dyads"
   ],
   "metadata": {
    "collapsed": false,
    "pycharm": {
     "name": "#%% md\n"
    }
   }
  },
  {
   "cell_type": "code",
   "execution_count": 1,
   "outputs": [
    {
     "name": "stdout",
     "output_type": "stream",
     "text": [
      "reading prepped data\n",
      "combining datasets\n"
     ]
    }
   ],
   "source": [
    "import pandas as pd\n",
    "import os\n",
    "from pprint import pprint\n",
    "from importlib import reload\n",
    "from collections import defaultdict\n",
    "from facetracking_helpers import calculations\n",
    "reload(calculations)\n",
    "\n",
    "LOGGING_RATE = 0.1\n",
    "SOURCE_DIR = \"./prepped_data/facetracking\"\n",
    "\n",
    "if True:\n",
    "    data = []  # All face tracking data\n",
    "    print(\"reading prepped data\")\n",
    "    for _, _, files in os.walk(SOURCE_DIR):\n",
    "        for f in files:\n",
    "            df_subj = pd.read_csv(fr\"{SOURCE_DIR}\\{f}\", sep=',')\n",
    "            df_subj[\"Time\"] = df_subj[\"Time\"].apply(pd.to_datetime)\n",
    "            df_subj = df_subj.set_index(\"Time\")\n",
    "\n",
    "            # TEMPORARY\n",
    "            df_subj.columns = df_subj.columns.str.replace('Left', '', 1)\n",
    "            df_subj.columns = df_subj.columns.str.replace('Right', '', 1)\n",
    "            df_subj.columns = df_subj.columns.str.strip('_')\n",
    "            df_subj = df_subj.groupby(level=0, axis=1).mean()\n",
    "\n",
    "            df_subj.name = f.rstrip('.csv')\n",
    "            data.append(df_subj)\n",
    "\n",
    "    print(\"combining datasets\")\n",
    "    data_by_subj = defaultdict(list)  # Paired face tracking data sets {dyad1: [data1, data2], ...}\n",
    "    for df in data:\n",
    "        subj = df.name.split('_')[0]  # e.g. 3_2 -> 3\n",
    "        data_by_subj[subj].append(df)\n",
    "    data_by_subj = dict(data_by_subj)"
   ],
   "metadata": {
    "collapsed": false,
    "pycharm": {
     "name": "#%%\n"
    }
   }
  },
  {
   "cell_type": "code",
   "execution_count": 2,
   "outputs": [],
   "source": [
    "reload(calculations)\n",
    "faceshape_index = None\n",
    "\n",
    "if True:\n",
    "    for dyad, pair in data_by_subj.items():\n",
    "        print(\"Calculating synchrony for dyad\", dyad)\n",
    "        df_sync = calculations.windowed_synchrony(*pair)\n",
    "        df_sync[\"FaceShape\"] = pair[0].columns\n",
    "        df_sync = df_sync.set_index(\"FaceShape\")\n",
    "        df_sync = df_sync.sort_index()\n",
    "        faceshape_index = df_sync.index.copy()\n",
    "        df_sync.to_csv(f\"out/tmp/s{dyad}_sync.csv\", index=True)"
   ],
   "metadata": {
    "collapsed": false,
    "pycharm": {
     "name": "#%%\n"
    }
   }
  },
  {
   "cell_type": "code",
   "execution_count": 3,
   "outputs": [],
   "source": [
    "data = []  # All face tracking data\n",
    "for _, _, files in os.walk(\"./out/tmp/\"):\n",
    "    for f in files:\n",
    "        df_subj = pd.read_csv(f\"./out/tmp/{f}\", sep=',')\n",
    "        df_subj.name = f.rstrip('_sync.csv')\n",
    "        data.append(df_subj)"
   ],
   "metadata": {
    "collapsed": false,
    "pycharm": {
     "name": "#%%\n"
    }
   }
  },
  {
   "cell_type": "code",
   "execution_count": 4,
   "outputs": [
    {
     "name": "stdout",
     "output_type": "stream",
     "text": [
      "Mean synchrony values for all facial movements, filtered out low variance (lower than 25th percentile)\n"
     ]
    }
   ],
   "source": [
    "def get_cleaned_sync(df):\n",
    "    \"\"\"\n",
    "    Filter out FaceShape with low variance or extreme synchrony.\n",
    "    Return mean synchrony and lag\n",
    "    \"\"\"\n",
    "    limit_v1, limit_v2 = tuple(df[[\"var_subj1\", \"var_subj2\"]].quantile(0.25))\n",
    "    limit_s = df[\"Synchrony\"].quantile(0.75)\n",
    "    df_filtered = df[(df[\"var_subj1\"] >= limit_v1) & (df[\"var_subj2\"] >= limit_v2) & (df[\"Synchrony\"] <= limit_s)]\n",
    "    mean_sync = df_filtered[\"Synchrony\"].apply(calculations.v_fisher_z).mean()\n",
    "    mean_sync = calculations._inverse_fisher_z(mean_sync)\n",
    "    mean_lag = df_filtered[\"Lags\"].mean()\n",
    "    return mean_sync, mean_lag\n",
    "\n",
    "print(\"Mean synchrony values for all facial movements, filtered out low variance (lower than 25th percentile)\")\n",
    "df_sync = pd.DataFrame(columns=[\"Dyad\", \"Synchrony\", \"Lag\"])\n",
    "for df in data:\n",
    "    dyad = df.name\n",
    "    dyad = dyad.lstrip('s')\n",
    "    mean_sync, mean_lag = get_cleaned_sync(df)\n",
    "    df_sync = df_sync.append({\"Dyad\": dyad, \"Synchrony\": mean_sync, \"Lag\": mean_lag}, ignore_index=True)\n",
    "df_sync.set_index(\"Dyad\").to_csv(\"out/result/results_sync.csv\")"
   ],
   "metadata": {
    "collapsed": false,
    "pycharm": {
     "name": "#%%\n"
    }
   }
  },
  {
   "cell_type": "code",
   "execution_count": 5,
   "outputs": [
    {
     "name": "stdout",
     "output_type": "stream",
     "text": [
      "Synchrony by FaceShape:\n"
     ]
    },
    {
     "ename": "IndexError",
     "evalue": "list index out of range",
     "output_type": "error",
     "traceback": [
      "\u001B[1;31m---------------------------------------------------------------------------\u001B[0m",
      "\u001B[1;31mIndexError\u001B[0m                                Traceback (most recent call last)",
      "\u001B[1;32m~\\AppData\\Local\\Temp/ipykernel_1384/3982996602.py\u001B[0m in \u001B[0;36m<module>\u001B[1;34m\u001B[0m\n\u001B[0;32m      1\u001B[0m \u001B[0mprint\u001B[0m\u001B[1;33m(\u001B[0m\u001B[1;34m\"Synchrony by FaceShape:\"\u001B[0m\u001B[1;33m)\u001B[0m\u001B[1;33m\u001B[0m\u001B[1;33m\u001B[0m\u001B[0m\n\u001B[1;32m----> 2\u001B[1;33m \u001B[0ms_fs_sync\u001B[0m \u001B[1;33m=\u001B[0m \u001B[0mpd\u001B[0m\u001B[1;33m.\u001B[0m\u001B[0mSeries\u001B[0m\u001B[1;33m(\u001B[0m\u001B[1;33m[\u001B[0m\u001B[1;36m0.0\u001B[0m\u001B[1;33m]\u001B[0m\u001B[1;33m*\u001B[0m\u001B[0mlen\u001B[0m\u001B[1;33m(\u001B[0m\u001B[0mdata\u001B[0m\u001B[1;33m[\u001B[0m\u001B[1;36m0\u001B[0m\u001B[1;33m]\u001B[0m\u001B[1;33m.\u001B[0m\u001B[0mindex\u001B[0m\u001B[1;33m)\u001B[0m\u001B[1;33m,\u001B[0m \u001B[0mindex\u001B[0m\u001B[1;33m=\u001B[0m\u001B[0mdata\u001B[0m\u001B[1;33m[\u001B[0m\u001B[1;36m0\u001B[0m\u001B[1;33m]\u001B[0m\u001B[1;33m[\u001B[0m\u001B[1;34m\"FaceShape\"\u001B[0m\u001B[1;33m]\u001B[0m\u001B[1;33m)\u001B[0m\u001B[1;33m\u001B[0m\u001B[1;33m\u001B[0m\u001B[0m\n\u001B[0m\u001B[0;32m      3\u001B[0m \u001B[1;32mfor\u001B[0m \u001B[0mdf\u001B[0m \u001B[1;32min\u001B[0m \u001B[0mdata\u001B[0m\u001B[1;33m:\u001B[0m\u001B[1;33m\u001B[0m\u001B[1;33m\u001B[0m\u001B[0m\n\u001B[0;32m      4\u001B[0m     \u001B[0mdf\u001B[0m \u001B[1;33m=\u001B[0m \u001B[0mdf\u001B[0m\u001B[1;33m.\u001B[0m\u001B[0mset_index\u001B[0m\u001B[1;33m(\u001B[0m\u001B[1;34m\"FaceShape\"\u001B[0m\u001B[1;33m)\u001B[0m\u001B[1;33m\u001B[0m\u001B[1;33m\u001B[0m\u001B[0m\n\u001B[0;32m      5\u001B[0m     \u001B[0mdf\u001B[0m \u001B[1;33m=\u001B[0m \u001B[0mdf\u001B[0m\u001B[1;33m.\u001B[0m\u001B[0msort_index\u001B[0m\u001B[1;33m(\u001B[0m\u001B[1;33m)\u001B[0m\u001B[1;33m\u001B[0m\u001B[1;33m\u001B[0m\u001B[0m\n",
      "\u001B[1;31mIndexError\u001B[0m: list index out of range"
     ]
    }
   ],
   "source": [
    "print(\"Synchrony by FaceShape:\")\n",
    "s_fs_sync = pd.Series([0.0]*len(data[0].index), index=data[0][\"FaceShape\"])\n",
    "for df in data:\n",
    "    df = df.set_index(\"FaceShape\")\n",
    "    df = df.sort_index()\n",
    "    fs_sync = df[\"Synchrony\"]\n",
    "    s_fs_sync += fs_sync\n",
    "s_fs_sync /= len(data)\n",
    "s_fs_sync.index = list(map(lambda x: x.replace('Left', '', 1).replace('Right', '', 1), s_fs_sync.index.values))\n",
    "s_fs_sync = s_fs_sync.groupby(s_fs_sync.index).mean()\n",
    "s_fs_sync = s_fs_sync.sort_values(ascending=False)\n",
    "\n",
    "\n",
    "ax = s_fs_sync.plot.bar(figsize=(20,5), ylim=(0,0.4))\n",
    "ax.axhline(s_fs_sync.mean(), color='red')\n",
    "ax.axhline(s_fs_sync.mean() - s_fs_sync.std(), color='orange')\n",
    "ax.axhline(s_fs_sync.mean() + s_fs_sync.std(), color='orange')\n",
    "s_fs_sync.describe()"
   ],
   "metadata": {
    "collapsed": false,
    "pycharm": {
     "name": "#%%\n"
    }
   }
  },
  {
   "cell_type": "code",
   "execution_count": null,
   "outputs": [],
   "source": [
    "reload(calculations)\n",
    "\n",
    "def calc_sync(_sample1, _sample2, **kwargs):\n",
    "    sample1 = _sample1.copy()\n",
    "    sample2 = _sample2.copy()\n",
    "    df_out = calculations.windowed_synchrony(sample1, sample2, **kwargs)\n",
    "    r, _ = get_cleaned_sync(df_out)\n",
    "    return r.mean()\n"
   ],
   "metadata": {
    "collapsed": false,
    "pycharm": {
     "name": "#%%\n"
    }
   }
  },
  {
   "cell_type": "code",
   "execution_count": null,
   "outputs": [],
   "source": [
    "import random\n",
    "\n",
    "interval = 30\n",
    "if True:\n",
    "    for dyad in range(1, 12):\n",
    "        if dyad == 5: continue\n",
    "        print(f\"Pseudo-Test for dyad {dyad}\")\n",
    "\n",
    "        sample1, sample2 = data_by_subj[str(dyad)]\n",
    "\n",
    "        print(\"Real Synchrony: \", end='')\n",
    "        print(calc_sync(sample1, sample2, interval_sec=interval, test_pseudo=False, verbose=False))\n",
    "\n",
    "        print(\"Pseudo-Synchrony random shuffle: \", end='')\n",
    "        print(calc_sync(sample1, sample2, interval_sec=interval, test_pseudo=True, verbose=False))\n",
    "\n",
    "        while True:\n",
    "            rand_subj = random.randint(1, 11)\n",
    "            if rand_subj != dyad:\n",
    "                break\n",
    "\n",
    "        sample2 = data_by_subj[str(rand_subj)][1]\n",
    "\n",
    "        if len(sample1.index) > len(sample2.index):\n",
    "            sample1 = sample1[:len(sample2)]\n",
    "            sample1.index = sample2.index\n",
    "        else:\n",
    "            sample2 = sample2[:len(sample1)]\n",
    "            sample2.index = sample1.index\n",
    "\n",
    "        print(f\"Pseudo-Synchrony with subject {rand_subj}: \", end='')\n",
    "        print(calc_sync(sample1, sample2, interval_sec=interval, test_pseudo=False, verbose=False))\n",
    "        print(\"=====================\")"
   ],
   "metadata": {
    "collapsed": false,
    "pycharm": {
     "name": "#%%\n"
    }
   }
  },
  {
   "cell_type": "code",
   "execution_count": null,
   "outputs": [],
   "source": [
    "from collections import defaultdict\n",
    "import pickle\n",
    "\n",
    "if True:\n",
    "    real_rs = {}\n",
    "    pseudo_rs = defaultdict(list)\n",
    "    for i in range(1, 12):\n",
    "        if i == 5: continue\n",
    "        print(f\"Calculating dyad {i} pseudo-synchronies\")\n",
    "        sample = data_by_subj[str(i)]\n",
    "        real_rs[i] = calc_sync(*sample)\n",
    "        for _ in range(100):\n",
    "            pseudo_rs[i].append(calc_sync(*sample, test_pseudo=True))\n",
    "\n",
    "    print(real_rs, pseudo_rs, sep='\\n')\n",
    "\n",
    "    with open(\"out/result/real_syncs_n50.pkl\", 'wb') as f:\n",
    "        pickle.dump(real_rs, f)\n",
    "\n",
    "    with open(\"out/result/pseudo_syncs_n50.pkl\", 'wb') as f:\n",
    "        pickle.dump(pseudo_rs, f)"
   ],
   "metadata": {
    "collapsed": false,
    "pycharm": {
     "name": "#%%\n"
    }
   }
  },
  {
   "cell_type": "code",
   "execution_count": null,
   "outputs": [],
   "source": [
    "import pickle\n",
    "\n",
    "with open(\"out/result/real_syncs.pkl\", 'rb') as f:\n",
    "    real_rs = pickle.load(f)\n",
    "\n",
    "with open(\"out/result/pseudo_syncs.pkl\", 'rb') as f:\n",
    "    pseudo_rs = pickle.load(f)\n"
   ],
   "metadata": {
    "collapsed": false,
    "pycharm": {
     "name": "#%%\n"
    }
   }
  },
  {
   "cell_type": "code",
   "execution_count": null,
   "outputs": [],
   "source": [
    "from scipy.stats import ttest_1samp\n",
    "import pandas as pd\n",
    "import numpy as np\n",
    "\n",
    "ts = []\n",
    "for dyad, p_rs in pseudo_rs.items():\n",
    "    p_rs = np.array(p_rs)\n",
    "    p_rs = p_rs[~np.isnan(p_rs)]\n",
    "    t = ttest_1samp(p_rs, real_rs[dyad], alternative=\"greater\")\n",
    "    ts.append(t)\n",
    "ts = pd.Series(ts)\n",
    "\n",
    "for i, (t, p) in enumerate(ts):\n",
    "    print(\"Dyad\", list(real_rs.keys())[i])\n",
    "    print(f\"t = {t:.4f}\\np = {p}\")\n",
    "    print(\"================\")\n"
   ],
   "metadata": {
    "collapsed": false,
    "pycharm": {
     "name": "#%%\n"
    }
   }
  },
  {
   "cell_type": "code",
   "execution_count": null,
   "outputs": [],
   "source": [
    "import numpy as np\n",
    "dyad = 9\n",
    "print(\"Pseudo mean\", np.array(pseudo_rs[dyad]).mean(),\n",
    "      \"\\nReal sync\", real_rs[dyad])\n",
    "\n",
    "\n",
    "\n"
   ],
   "metadata": {
    "collapsed": false,
    "pycharm": {
     "name": "#%%\n"
    }
   }
  }
 ],
 "metadata": {
  "kernelspec": {
   "name": "python3",
   "language": "python",
   "display_name": "Python 3 (ipykernel)"
  },
  "language_info": {
   "codemirror_mode": {
    "name": "ipython",
    "version": 2
   },
   "file_extension": ".py",
   "mimetype": "text/x-python",
   "name": "python",
   "nbconvert_exporter": "python",
   "pygments_lexer": "ipython2",
   "version": "2.7.6"
  }
 },
 "nbformat": 4,
 "nbformat_minor": 0
}