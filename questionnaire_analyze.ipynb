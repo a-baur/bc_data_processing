{
 "cells": [
  {
   "cell_type": "markdown",
   "metadata": {
    "collapsed": true,
    "pycharm": {
     "name": "#%% md\n"
    }
   },
   "source": [
    "## Load Data, Define Categories"
   ]
  },
  {
   "cell_type": "code",
   "execution_count": 1,
   "outputs": [
    {
     "ename": "FileNotFoundError",
     "evalue": "[Errno 2] No such file or directory: './prepped_data/questionnaire/prepped_questionnaire.csv'",
     "output_type": "error",
     "traceback": [
      "\u001B[1;31m---------------------------------------------------------------------------\u001B[0m",
      "\u001B[1;31mFileNotFoundError\u001B[0m                         Traceback (most recent call last)",
      "\u001B[1;32m~\\AppData\\Local\\Temp/ipykernel_11772/1055569537.py\u001B[0m in \u001B[0;36m<module>\u001B[1;34m\u001B[0m\n\u001B[0;32m     50\u001B[0m     \u001B[1;32mreturn\u001B[0m \u001B[0m_df\u001B[0m\u001B[1;33m.\u001B[0m\u001B[0mgroupby\u001B[0m\u001B[1;33m(\u001B[0m\u001B[1;34m\"Subject\"\u001B[0m\u001B[1;33m)\u001B[0m\u001B[1;33m\u001B[0m\u001B[1;33m\u001B[0m\u001B[0m\n\u001B[0;32m     51\u001B[0m \u001B[1;33m\u001B[0m\u001B[0m\n\u001B[1;32m---> 52\u001B[1;33m \u001B[0mdf\u001B[0m \u001B[1;33m=\u001B[0m \u001B[0mpd\u001B[0m\u001B[1;33m.\u001B[0m\u001B[0mread_csv\u001B[0m\u001B[1;33m(\u001B[0m\u001B[1;34m\"./prepped_data/questionnaire/prepped_questionnaire.csv\"\u001B[0m\u001B[1;33m,\u001B[0m \u001B[0mindex_col\u001B[0m\u001B[1;33m=\u001B[0m\u001B[1;34m'ID'\u001B[0m\u001B[1;33m)\u001B[0m\u001B[1;33m\u001B[0m\u001B[1;33m\u001B[0m\u001B[0m\n\u001B[0m\u001B[0;32m     53\u001B[0m \u001B[0mdf_res\u001B[0m \u001B[1;33m=\u001B[0m \u001B[0mpd\u001B[0m\u001B[1;33m.\u001B[0m\u001B[0mread_csv\u001B[0m\u001B[1;33m(\u001B[0m\u001B[1;34m\"./out/result/results_sync.csv\"\u001B[0m\u001B[1;33m,\u001B[0m \u001B[0mindex_col\u001B[0m\u001B[1;33m=\u001B[0m\u001B[1;34m'Dyad'\u001B[0m\u001B[1;33m)\u001B[0m\u001B[1;33m\u001B[0m\u001B[1;33m\u001B[0m\u001B[0m\n\u001B[0;32m     54\u001B[0m \u001B[1;32mif\u001B[0m \u001B[0mrecompute\u001B[0m\u001B[1;33m:\u001B[0m\u001B[1;33m\u001B[0m\u001B[1;33m\u001B[0m\u001B[0m\n",
      "\u001B[1;32mC:\\ProgramData\\Anaconda3\\lib\\site-packages\\pandas\\util\\_decorators.py\u001B[0m in \u001B[0;36mwrapper\u001B[1;34m(*args, **kwargs)\u001B[0m\n\u001B[0;32m    309\u001B[0m                     \u001B[0mstacklevel\u001B[0m\u001B[1;33m=\u001B[0m\u001B[0mstacklevel\u001B[0m\u001B[1;33m,\u001B[0m\u001B[1;33m\u001B[0m\u001B[1;33m\u001B[0m\u001B[0m\n\u001B[0;32m    310\u001B[0m                 )\n\u001B[1;32m--> 311\u001B[1;33m             \u001B[1;32mreturn\u001B[0m \u001B[0mfunc\u001B[0m\u001B[1;33m(\u001B[0m\u001B[1;33m*\u001B[0m\u001B[0margs\u001B[0m\u001B[1;33m,\u001B[0m \u001B[1;33m**\u001B[0m\u001B[0mkwargs\u001B[0m\u001B[1;33m)\u001B[0m\u001B[1;33m\u001B[0m\u001B[1;33m\u001B[0m\u001B[0m\n\u001B[0m\u001B[0;32m    312\u001B[0m \u001B[1;33m\u001B[0m\u001B[0m\n\u001B[0;32m    313\u001B[0m         \u001B[1;32mreturn\u001B[0m \u001B[0mwrapper\u001B[0m\u001B[1;33m\u001B[0m\u001B[1;33m\u001B[0m\u001B[0m\n",
      "\u001B[1;32mC:\\ProgramData\\Anaconda3\\lib\\site-packages\\pandas\\io\\parsers\\readers.py\u001B[0m in \u001B[0;36mread_csv\u001B[1;34m(filepath_or_buffer, sep, delimiter, header, names, index_col, usecols, squeeze, prefix, mangle_dupe_cols, dtype, engine, converters, true_values, false_values, skipinitialspace, skiprows, skipfooter, nrows, na_values, keep_default_na, na_filter, verbose, skip_blank_lines, parse_dates, infer_datetime_format, keep_date_col, date_parser, dayfirst, cache_dates, iterator, chunksize, compression, thousands, decimal, lineterminator, quotechar, quoting, doublequote, escapechar, comment, encoding, encoding_errors, dialect, error_bad_lines, warn_bad_lines, on_bad_lines, delim_whitespace, low_memory, memory_map, float_precision, storage_options)\u001B[0m\n\u001B[0;32m    584\u001B[0m     \u001B[0mkwds\u001B[0m\u001B[1;33m.\u001B[0m\u001B[0mupdate\u001B[0m\u001B[1;33m(\u001B[0m\u001B[0mkwds_defaults\u001B[0m\u001B[1;33m)\u001B[0m\u001B[1;33m\u001B[0m\u001B[1;33m\u001B[0m\u001B[0m\n\u001B[0;32m    585\u001B[0m \u001B[1;33m\u001B[0m\u001B[0m\n\u001B[1;32m--> 586\u001B[1;33m     \u001B[1;32mreturn\u001B[0m \u001B[0m_read\u001B[0m\u001B[1;33m(\u001B[0m\u001B[0mfilepath_or_buffer\u001B[0m\u001B[1;33m,\u001B[0m \u001B[0mkwds\u001B[0m\u001B[1;33m)\u001B[0m\u001B[1;33m\u001B[0m\u001B[1;33m\u001B[0m\u001B[0m\n\u001B[0m\u001B[0;32m    587\u001B[0m \u001B[1;33m\u001B[0m\u001B[0m\n\u001B[0;32m    588\u001B[0m \u001B[1;33m\u001B[0m\u001B[0m\n",
      "\u001B[1;32mC:\\ProgramData\\Anaconda3\\lib\\site-packages\\pandas\\io\\parsers\\readers.py\u001B[0m in \u001B[0;36m_read\u001B[1;34m(filepath_or_buffer, kwds)\u001B[0m\n\u001B[0;32m    480\u001B[0m \u001B[1;33m\u001B[0m\u001B[0m\n\u001B[0;32m    481\u001B[0m     \u001B[1;31m# Create the parser.\u001B[0m\u001B[1;33m\u001B[0m\u001B[1;33m\u001B[0m\u001B[0m\n\u001B[1;32m--> 482\u001B[1;33m     \u001B[0mparser\u001B[0m \u001B[1;33m=\u001B[0m \u001B[0mTextFileReader\u001B[0m\u001B[1;33m(\u001B[0m\u001B[0mfilepath_or_buffer\u001B[0m\u001B[1;33m,\u001B[0m \u001B[1;33m**\u001B[0m\u001B[0mkwds\u001B[0m\u001B[1;33m)\u001B[0m\u001B[1;33m\u001B[0m\u001B[1;33m\u001B[0m\u001B[0m\n\u001B[0m\u001B[0;32m    483\u001B[0m \u001B[1;33m\u001B[0m\u001B[0m\n\u001B[0;32m    484\u001B[0m     \u001B[1;32mif\u001B[0m \u001B[0mchunksize\u001B[0m \u001B[1;32mor\u001B[0m \u001B[0miterator\u001B[0m\u001B[1;33m:\u001B[0m\u001B[1;33m\u001B[0m\u001B[1;33m\u001B[0m\u001B[0m\n",
      "\u001B[1;32mC:\\ProgramData\\Anaconda3\\lib\\site-packages\\pandas\\io\\parsers\\readers.py\u001B[0m in \u001B[0;36m__init__\u001B[1;34m(self, f, engine, **kwds)\u001B[0m\n\u001B[0;32m    809\u001B[0m             \u001B[0mself\u001B[0m\u001B[1;33m.\u001B[0m\u001B[0moptions\u001B[0m\u001B[1;33m[\u001B[0m\u001B[1;34m\"has_index_names\"\u001B[0m\u001B[1;33m]\u001B[0m \u001B[1;33m=\u001B[0m \u001B[0mkwds\u001B[0m\u001B[1;33m[\u001B[0m\u001B[1;34m\"has_index_names\"\u001B[0m\u001B[1;33m]\u001B[0m\u001B[1;33m\u001B[0m\u001B[1;33m\u001B[0m\u001B[0m\n\u001B[0;32m    810\u001B[0m \u001B[1;33m\u001B[0m\u001B[0m\n\u001B[1;32m--> 811\u001B[1;33m         \u001B[0mself\u001B[0m\u001B[1;33m.\u001B[0m\u001B[0m_engine\u001B[0m \u001B[1;33m=\u001B[0m \u001B[0mself\u001B[0m\u001B[1;33m.\u001B[0m\u001B[0m_make_engine\u001B[0m\u001B[1;33m(\u001B[0m\u001B[0mself\u001B[0m\u001B[1;33m.\u001B[0m\u001B[0mengine\u001B[0m\u001B[1;33m)\u001B[0m\u001B[1;33m\u001B[0m\u001B[1;33m\u001B[0m\u001B[0m\n\u001B[0m\u001B[0;32m    812\u001B[0m \u001B[1;33m\u001B[0m\u001B[0m\n\u001B[0;32m    813\u001B[0m     \u001B[1;32mdef\u001B[0m \u001B[0mclose\u001B[0m\u001B[1;33m(\u001B[0m\u001B[0mself\u001B[0m\u001B[1;33m)\u001B[0m\u001B[1;33m:\u001B[0m\u001B[1;33m\u001B[0m\u001B[1;33m\u001B[0m\u001B[0m\n",
      "\u001B[1;32mC:\\ProgramData\\Anaconda3\\lib\\site-packages\\pandas\\io\\parsers\\readers.py\u001B[0m in \u001B[0;36m_make_engine\u001B[1;34m(self, engine)\u001B[0m\n\u001B[0;32m   1038\u001B[0m             )\n\u001B[0;32m   1039\u001B[0m         \u001B[1;31m# error: Too many arguments for \"ParserBase\"\u001B[0m\u001B[1;33m\u001B[0m\u001B[1;33m\u001B[0m\u001B[0m\n\u001B[1;32m-> 1040\u001B[1;33m         \u001B[1;32mreturn\u001B[0m \u001B[0mmapping\u001B[0m\u001B[1;33m[\u001B[0m\u001B[0mengine\u001B[0m\u001B[1;33m]\u001B[0m\u001B[1;33m(\u001B[0m\u001B[0mself\u001B[0m\u001B[1;33m.\u001B[0m\u001B[0mf\u001B[0m\u001B[1;33m,\u001B[0m \u001B[1;33m**\u001B[0m\u001B[0mself\u001B[0m\u001B[1;33m.\u001B[0m\u001B[0moptions\u001B[0m\u001B[1;33m)\u001B[0m  \u001B[1;31m# type: ignore[call-arg]\u001B[0m\u001B[1;33m\u001B[0m\u001B[1;33m\u001B[0m\u001B[0m\n\u001B[0m\u001B[0;32m   1041\u001B[0m \u001B[1;33m\u001B[0m\u001B[0m\n\u001B[0;32m   1042\u001B[0m     \u001B[1;32mdef\u001B[0m \u001B[0m_failover_to_python\u001B[0m\u001B[1;33m(\u001B[0m\u001B[0mself\u001B[0m\u001B[1;33m)\u001B[0m\u001B[1;33m:\u001B[0m\u001B[1;33m\u001B[0m\u001B[1;33m\u001B[0m\u001B[0m\n",
      "\u001B[1;32mC:\\ProgramData\\Anaconda3\\lib\\site-packages\\pandas\\io\\parsers\\c_parser_wrapper.py\u001B[0m in \u001B[0;36m__init__\u001B[1;34m(self, src, **kwds)\u001B[0m\n\u001B[0;32m     49\u001B[0m \u001B[1;33m\u001B[0m\u001B[0m\n\u001B[0;32m     50\u001B[0m         \u001B[1;31m# open handles\u001B[0m\u001B[1;33m\u001B[0m\u001B[1;33m\u001B[0m\u001B[0m\n\u001B[1;32m---> 51\u001B[1;33m         \u001B[0mself\u001B[0m\u001B[1;33m.\u001B[0m\u001B[0m_open_handles\u001B[0m\u001B[1;33m(\u001B[0m\u001B[0msrc\u001B[0m\u001B[1;33m,\u001B[0m \u001B[0mkwds\u001B[0m\u001B[1;33m)\u001B[0m\u001B[1;33m\u001B[0m\u001B[1;33m\u001B[0m\u001B[0m\n\u001B[0m\u001B[0;32m     52\u001B[0m         \u001B[1;32massert\u001B[0m \u001B[0mself\u001B[0m\u001B[1;33m.\u001B[0m\u001B[0mhandles\u001B[0m \u001B[1;32mis\u001B[0m \u001B[1;32mnot\u001B[0m \u001B[1;32mNone\u001B[0m\u001B[1;33m\u001B[0m\u001B[1;33m\u001B[0m\u001B[0m\n\u001B[0;32m     53\u001B[0m \u001B[1;33m\u001B[0m\u001B[0m\n",
      "\u001B[1;32mC:\\ProgramData\\Anaconda3\\lib\\site-packages\\pandas\\io\\parsers\\base_parser.py\u001B[0m in \u001B[0;36m_open_handles\u001B[1;34m(self, src, kwds)\u001B[0m\n\u001B[0;32m    220\u001B[0m         \u001B[0mLet\u001B[0m \u001B[0mthe\u001B[0m \u001B[0mreaders\u001B[0m \u001B[0mopen\u001B[0m \u001B[0mIOHandles\u001B[0m \u001B[0mafter\u001B[0m \u001B[0mthey\u001B[0m \u001B[0mare\u001B[0m \u001B[0mdone\u001B[0m \u001B[1;32mwith\u001B[0m \u001B[0mtheir\u001B[0m \u001B[0mpotential\u001B[0m \u001B[0mraises\u001B[0m\u001B[1;33m.\u001B[0m\u001B[1;33m\u001B[0m\u001B[1;33m\u001B[0m\u001B[0m\n\u001B[0;32m    221\u001B[0m         \"\"\"\n\u001B[1;32m--> 222\u001B[1;33m         self.handles = get_handle(\n\u001B[0m\u001B[0;32m    223\u001B[0m             \u001B[0msrc\u001B[0m\u001B[1;33m,\u001B[0m\u001B[1;33m\u001B[0m\u001B[1;33m\u001B[0m\u001B[0m\n\u001B[0;32m    224\u001B[0m             \u001B[1;34m\"r\"\u001B[0m\u001B[1;33m,\u001B[0m\u001B[1;33m\u001B[0m\u001B[1;33m\u001B[0m\u001B[0m\n",
      "\u001B[1;32mC:\\ProgramData\\Anaconda3\\lib\\site-packages\\pandas\\io\\common.py\u001B[0m in \u001B[0;36mget_handle\u001B[1;34m(path_or_buf, mode, encoding, compression, memory_map, is_text, errors, storage_options)\u001B[0m\n\u001B[0;32m    700\u001B[0m         \u001B[1;32mif\u001B[0m \u001B[0mioargs\u001B[0m\u001B[1;33m.\u001B[0m\u001B[0mencoding\u001B[0m \u001B[1;32mand\u001B[0m \u001B[1;34m\"b\"\u001B[0m \u001B[1;32mnot\u001B[0m \u001B[1;32min\u001B[0m \u001B[0mioargs\u001B[0m\u001B[1;33m.\u001B[0m\u001B[0mmode\u001B[0m\u001B[1;33m:\u001B[0m\u001B[1;33m\u001B[0m\u001B[1;33m\u001B[0m\u001B[0m\n\u001B[0;32m    701\u001B[0m             \u001B[1;31m# Encoding\u001B[0m\u001B[1;33m\u001B[0m\u001B[1;33m\u001B[0m\u001B[0m\n\u001B[1;32m--> 702\u001B[1;33m             handle = open(\n\u001B[0m\u001B[0;32m    703\u001B[0m                 \u001B[0mhandle\u001B[0m\u001B[1;33m,\u001B[0m\u001B[1;33m\u001B[0m\u001B[1;33m\u001B[0m\u001B[0m\n\u001B[0;32m    704\u001B[0m                 \u001B[0mioargs\u001B[0m\u001B[1;33m.\u001B[0m\u001B[0mmode\u001B[0m\u001B[1;33m,\u001B[0m\u001B[1;33m\u001B[0m\u001B[1;33m\u001B[0m\u001B[0m\n",
      "\u001B[1;31mFileNotFoundError\u001B[0m: [Errno 2] No such file or directory: './prepped_data/questionnaire/prepped_questionnaire.csv'"
     ]
    }
   ],
   "source": [
    "from pprint import pprint\n",
    "from importlib import reload\n",
    "import pandas as pd\n",
    "from questionnaire_helpers import scoring\n",
    "from scipy.stats import ttest_ind, f_oneway, ks_2samp, pearsonr\n",
    "reload(scoring)\n",
    "\n",
    "recompute=True\n",
    "\n",
    "conditions = {\n",
    "    \"LipSync\": [6, 7, 8, 9, 11],\n",
    "    \"FaceTracking\": [1, 2, 3, 4, 10],\n",
    "}\n",
    "\n",
    "# category: from_column, to_column\n",
    "categories = {\n",
    "    \"demographic\": (0, 2),\n",
    "    \"acquaintance\": (3, 3),\n",
    "    \"self-rating\": (4, 18),\n",
    "    \"isq-pre\": (19, 23),\n",
    "    \"ssq-pre\": (24, 39),\n",
    "    \"ssq-post\": (40, 55),\n",
    "    \"isq-post\": (56, 60),\n",
    "    \"overlap\": (61, 61),\n",
    "    \"iqq\": (62, 75),\n",
    "    \"other-rating\": (76, 90),\n",
    "}\n",
    "\n",
    "def get_answers_by_condition(df, c_name):\n",
    "    return df[df.index.map(lambda x: x[0] in str(conditions[c_name]))]\n",
    "\n",
    "def get_answers_by_category(df, q_name):\n",
    "    \"\"\" Returns all answers for certain questionnaire.\n",
    "    :param df: df with all answers.\n",
    "    :param q_name: Name of questionnaire.\n",
    "    :param q_cols: Dict with columns of questionnaire as number pairs (from, to).\n",
    "    :return: pandas.DataFrame with answers for questionnaire.\n",
    "    \"\"\"\n",
    "    from_col, to_col = categories[q_name]\n",
    "    return df.iloc[:, from_col:to_col+1]\n",
    "\n",
    "def group_by_dyad(_df):\n",
    "    _df[\"Dyad\"] = _df.index.str.split('_').map(lambda x: x[0])\n",
    "    _df[\"Dyad\"] = _df[\"Dyad\"].astype(float)\n",
    "    return _df.groupby(\"Dyad\")\n",
    "\n",
    "def group_by_suffix(_df):\n",
    "    _df[\"Subject\"] = _df.index.str.split('_').map(lambda x: x[1])\n",
    "    _df[\"Subject\"] = _df[\"Subject\"].astype(float)\n",
    "    return _df.groupby(\"Subject\")\n",
    "\n",
    "df = pd.read_csv(\"./prepped_data/questionnaire/prepped_questionnaire.csv\", index_col='ID')\n",
    "df_res = pd.read_csv(\"./out/result/results_sync.csv\", index_col='Dyad')\n",
    "if recompute:\n",
    "    df_res = df_res[[\"Synchrony\", \"Lag\"]]\n",
    "\n",
    "df_res"
   ],
   "metadata": {
    "collapsed": false,
    "pycharm": {
     "name": "#%%\n"
    }
   }
  },
  {
   "cell_type": "code",
   "execution_count": null,
   "outputs": [],
   "source": [
    "df_new_res = pd.DataFrame()\n",
    "for idx, row in df_res.iterrows():\n",
    "    new_idx = (f\"{str(idx)}_1\", f\"{str(idx)}_2\")\n",
    "    row.name = new_idx[0]\n",
    "    df_new_res = df_new_res.append(row)\n",
    "    row.name = new_idx[1]\n",
    "    df_new_res = df_new_res.append(row)\n",
    "df_res = df_new_res"
   ],
   "metadata": {
    "collapsed": false,
    "pycharm": {
     "name": "#%%\n"
    }
   }
  },
  {
   "cell_type": "markdown",
   "source": [
    "## Demographic Data"
   ],
   "metadata": {
    "collapsed": false,
    "pycharm": {
     "name": "#%% md\n"
    }
   }
  },
  {
   "cell_type": "code",
   "execution_count": null,
   "outputs": [],
   "source": [
    "df_demo = get_answers_by_category(df, \"demographic\")\n",
    "print(\"Mean age:\", df_demo[\"Please enter your age..\"].mean(),\n",
    "      \"Var age:\", df_demo[\"Please enter your age..\"].std(),\n",
    "      \"Gender:\", df_demo[\"Please select your gender...\"].value_counts(),\n",
    "      sep='\\n')"
   ],
   "metadata": {
    "collapsed": false,
    "pycharm": {
     "name": "#%%\n"
    }
   }
  },
  {
   "cell_type": "code",
   "execution_count": null,
   "outputs": [],
   "source": [
    "df_demo[\"Please enter your age..\"].max()"
   ],
   "metadata": {
    "collapsed": false,
    "pycharm": {
     "name": "#%%\n"
    }
   }
  },
  {
   "cell_type": "markdown",
   "source": [
    "## Big Five Personality Traits\n",
    "### Get Answers By For Self- And Other-Rating"
   ],
   "metadata": {
    "collapsed": false,
    "pycharm": {
     "name": "#%% md\n"
    }
   }
  },
  {
   "cell_type": "code",
   "execution_count": null,
   "outputs": [],
   "source": [
    "df_self_rating = get_answers_by_category(df, \"self-rating\")\n",
    "df_self_scores = scoring.score_df(df_self_rating, scoring.sk_bfi, 8, \"I see myself as someone who... [{}]\")\n",
    "\n",
    "df_other_rating = get_answers_by_category(df, \"other-rating\")\n",
    "df_other_scores = scoring.score_df(df_other_rating, scoring.sk_bfi, 8, \"I see my negotiation partner as someone who... [{}]\")\n",
    "\n",
    "pd.concat([df_other_scores.add_prefix(\"SELF_\"), df_self_scores.add_prefix(\"OTHER_\")], axis=1, )"
   ],
   "metadata": {
    "collapsed": false,
    "pycharm": {
     "name": "#%%\n"
    }
   }
  },
  {
   "cell_type": "markdown",
   "source": [
    "### Calculate Differences\n",
    "How did the rating of others deviate from self-rating?\n",
    "Use absolute errors"
   ],
   "metadata": {
    "collapsed": false
   }
  },
  {
   "cell_type": "code",
   "execution_count": null,
   "outputs": [],
   "source": [
    "df_bfi_diff = pd.DataFrame()\n",
    "for subj, self_scores in df_self_scores.iterrows():\n",
    "    if subj.endswith('_1'):\n",
    "        other_idx = subj.split('_')[0] + '_2'\n",
    "    else:\n",
    "        other_idx = subj.split('_')[0] + '_1'\n",
    "    diff_row = df_other_scores.loc[other_idx] - self_scores\n",
    "    diff_row.name = subj\n",
    "    df_bfi_diff = df_bfi_diff.append(diff_row)\n",
    "\n",
    "#df_bfi_diff = df_bfi_diff.applymap(abs)\n",
    "df_bfi_diff"
   ],
   "metadata": {
    "collapsed": false,
    "pycharm": {
     "name": "#%%\n"
    }
   }
  },
  {
   "cell_type": "code",
   "execution_count": null,
   "outputs": [],
   "source": [
    "df_bfi_diff.sum(axis=1).hist(figsize=(10,10))"
   ],
   "metadata": {
    "collapsed": false,
    "pycharm": {
     "name": "#%%\n"
    }
   }
  },
  {
   "cell_type": "markdown",
   "source": [
    "Mean differences:"
   ],
   "metadata": {
    "collapsed": false,
    "pycharm": {
     "name": "#%% md\n"
    }
   }
  },
  {
   "cell_type": "code",
   "execution_count": null,
   "outputs": [],
   "source": [
    "bfi_diff_ls = get_answers_by_condition(df_bfi_diff, \"LipSync\")\n",
    "bfi_diff_ft = get_answers_by_condition(df_bfi_diff, \"FaceTracking\")\n",
    "\n",
    "print(\"LipSync\",\n",
    "      \"=======\",\n",
    "      bfi_diff_ls.describe(),\n",
    "      '',\n",
    "      \"FaceTracking\",\n",
    "      \"============\",\n",
    "      bfi_diff_ft.describe(),\n",
    "      sep='\\n')"
   ],
   "metadata": {
    "collapsed": false,
    "pycharm": {
     "name": "#%%\n"
    }
   }
  },
  {
   "cell_type": "code",
   "execution_count": null,
   "outputs": [],
   "source": [
    "df_ia_res = pd.DataFrame(columns=[\"Subject\",\"IA\", \"IA_p\"])\n",
    "for subj, self_scores in df_self_scores.iterrows():\n",
    "    if subj.endswith('_1'):\n",
    "        other_idx = subj.split('_')[0] + '_2'\n",
    "    else:\n",
    "        other_idx = subj.split('_')[0] + '_1'\n",
    "    r, p = pearsonr(df_other_scores.loc[other_idx], self_scores)\n",
    "    df_ia_res = df_ia_res.append({\"Subject\": subj, \"IA\": r, \"IA_p\": p}, ignore_index=True)\n",
    "df_ia_res = df_ia_res.set_index(\"Subject\")\n",
    "\n",
    "# df_ia_res = group_by_dyad(df_ia_res).mean()\n",
    "# df_ia_res.index = df_ia_res.index.map(pd.to_numeric)\n",
    "df_ia_res"
   ],
   "metadata": {
    "collapsed": false,
    "pycharm": {
     "name": "#%%\n"
    }
   }
  },
  {
   "cell_type": "code",
   "execution_count": null,
   "outputs": [],
   "source": [
    "print(df_res, df_ia_res, sep='\\n')"
   ],
   "metadata": {
    "collapsed": false,
    "pycharm": {
     "name": "#%%\n"
    }
   }
  },
  {
   "cell_type": "code",
   "execution_count": null,
   "outputs": [],
   "source": [
    "df_res = df_res.join(df_ia_res.drop(columns=[\"IA_p\"]))\n",
    "df_res"
   ],
   "metadata": {
    "collapsed": false,
    "pycharm": {
     "name": "#%%\n"
    }
   }
  },
  {
   "cell_type": "code",
   "execution_count": null,
   "outputs": [],
   "source": [
    "results = {\n",
    "    \"Neuroticism\": ttest_ind(bfi_diff_ft[\"Neuroticism\"], bfi_diff_ls[\"Neuroticism\"], alternative=\"less\"),\n",
    "    \"Extraversion\": ttest_ind(bfi_diff_ft[\"Extraversion\"], bfi_diff_ls[\"Extraversion\"], alternative=\"less\"),\n",
    "    \"Openness\": ttest_ind(bfi_diff_ft[\"Openness\"], bfi_diff_ls[\"Openness\"], alternative=\"less\"),\n",
    "    \"Agreeableness\": ttest_ind(bfi_diff_ft[\"Agreeableness\"], bfi_diff_ls[\"Agreeableness\"], alternative=\"less\"),\n",
    "    \"Conscientiousness\": ttest_ind(bfi_diff_ft[\"Conscientiousness\"], bfi_diff_ls[\"Conscientiousness\"], alternative=\"less\")\n",
    "    }\n",
    "\n",
    "pprint(results)"
   ],
   "metadata": {
    "collapsed": false,
    "pycharm": {
     "name": "#%%\n"
    }
   }
  },
  {
   "cell_type": "code",
   "execution_count": null,
   "outputs": [],
   "source": [
    "\n",
    "results = {\n",
    "    \"Neuroticism\": ks_2samp(bfi_diff_ft[\"Neuroticism\"], bfi_diff_ls[\"Neuroticism\"], alternative=\"less\"),\n",
    "    \"Extraversion\": ks_2samp(bfi_diff_ft[\"Extraversion\"], bfi_diff_ls[\"Extraversion\"], alternative=\"less\"),\n",
    "    \"Openness\": ks_2samp(bfi_diff_ft[\"Openness\"], bfi_diff_ls[\"Openness\"], alternative=\"less\"),\n",
    "    \"Agreeableness\": ks_2samp(bfi_diff_ft[\"Agreeableness\"], bfi_diff_ls[\"Agreeableness\"], alternative=\"less\"),\n",
    "    \"Conscientiousness\": ks_2samp(bfi_diff_ft[\"Conscientiousness\"], bfi_diff_ls[\"Conscientiousness\"], alternative=\"less\")\n",
    "    }\n",
    "\n",
    "pprint(results)"
   ],
   "metadata": {
    "collapsed": false,
    "pycharm": {
     "name": "#%%\n"
    }
   }
  },
  {
   "cell_type": "markdown",
   "source": [
    "## Simulator Sickness Questionaire\n",
    "### Get Answers By For SSQ, Compare Before and After\n",
    "Scoring from https://conservancy.umn.edu/bitstream/handle/11299/201892/SSQ%20Scoring.pdf?sequence=9&isAllowed=y"
   ],
   "metadata": {
    "collapsed": false,
    "pycharm": {
     "name": "#%% md\n"
    }
   }
  },
  {
   "cell_type": "code",
   "execution_count": null,
   "outputs": [],
   "source": [
    "def apply_ssq_conversion(df):\n",
    "    df = df.copy()\n",
    "    df[\"Nausea\"] = df[\"Nausea\"] * 9.54\n",
    "    df[\"Oculomotor\"] = df[\"Oculomotor\"] * 7.58\n",
    "    df[\"Disorientation\"] = df[\"Disorientation\"] * 13.92\n",
    "    df[\"Total\"] = df[\"Total\"] * 3.74 * (3/7)\n",
    "    return df\n",
    "\n",
    "# PRE NEGOTIATION\n",
    "# ==============================\n",
    "df_ssq_pre = get_answers_by_category(df, \"ssq-pre\")\n",
    "\n",
    "df_ssq_pre_score = scoring.score_df(\n",
    "    df_ssq_pre, scoring.sk_ssq, 3,\n",
    "    \"Please rate each item on the scale. Consider how you are feeling right now. [{}]\")\n",
    "df_ssq_pre_score = apply_ssq_conversion(df_ssq_pre_score)\n",
    "\n",
    "\n",
    "# POST NEGOTIATION\n",
    "# ==============================\n",
    "df_ssq_post = get_answers_by_category(df, \"ssq-post\")\n",
    "df_ssq_post.columns = df_ssq_post.columns.str.rstrip('.1')  # Remove '.1' from LimeSurvey\n",
    "\n",
    "df_ssq_post_score = scoring.score_df(\n",
    "    df_ssq_post, scoring.sk_ssq, 3,\n",
    "    \"Please rate each item on the scale. Consider how you are feeling right now. [{}]\")\n",
    "\n",
    "df_ssq_post_score = apply_ssq_conversion(df_ssq_post_score)"
   ],
   "metadata": {
    "collapsed": false,
    "pycharm": {
     "name": "#%%\n"
    }
   }
  },
  {
   "cell_type": "code",
   "execution_count": null,
   "outputs": [],
   "source": [
    "\n",
    "import scipy.stats as stats\n",
    "stats.shapiro(df_ssq_pre_score[\"Total\"])"
   ],
   "metadata": {
    "collapsed": false,
    "pycharm": {
     "name": "#%%\n"
    }
   }
  },
  {
   "cell_type": "code",
   "execution_count": null,
   "outputs": [],
   "source": [
    "stats.shapiro(df_ssq_post_score[\"Total\"])"
   ],
   "metadata": {
    "collapsed": false,
    "pycharm": {
     "name": "#%%\n"
    }
   }
  },
  {
   "cell_type": "code",
   "execution_count": null,
   "outputs": [],
   "source": [
    "stats.wilcoxon(df_ssq_post_score[\"Total\"], df_ssq_pre_score[\"Total\"])"
   ],
   "metadata": {
    "collapsed": false,
    "pycharm": {
     "name": "#%%\n"
    }
   }
  },
  {
   "cell_type": "code",
   "execution_count": null,
   "outputs": [],
   "source": [
    "print(df_ssq_post_score[\"Total\"], df_ssq_pre_score[\"Total\"])"
   ],
   "metadata": {
    "collapsed": false,
    "pycharm": {
     "name": "#%%\n"
    }
   }
  },
  {
   "cell_type": "markdown",
   "source": [
    "## Interaction Quality Questionnaire\n",
    "#"
   ],
   "metadata": {
    "collapsed": false,
    "pycharm": {
     "name": "#%% md\n"
    }
   }
  },
  {
   "cell_type": "code",
   "execution_count": null,
   "outputs": [],
   "source": [
    "df_iqq = get_answers_by_category(df, \"iqq\")\n",
    "df_iqq"
   ],
   "metadata": {
    "collapsed": false,
    "pycharm": {
     "name": "#%%\n"
    }
   }
  },
  {
   "cell_type": "code",
   "execution_count": null,
   "outputs": [],
   "source": [
    "df_iqq_score = scoring.score_df(\n",
    "    df_iqq, scoring.sk_iqq, max_score=7,\n",
    "    str_fmt=\"Please select the answer that best describes your experience during the negotiation. [{}]\")\n",
    "\n",
    "df_iqq_score[[\"Trust\", \"Rapport\"]] /= 5\n",
    "df_iqq_score[[\"Smoothness\", \"Similarity\"]] /= 2\n",
    "#df_iqq_res = group_by_dyad(df_iqq_score).mean()\n",
    "# df_iqq_res.index = df_iqq_res.index.map(pd.to_numeric)\n",
    "df_iqq_res = df_iqq_score"
   ],
   "metadata": {
    "collapsed": false,
    "pycharm": {
     "name": "#%%\n"
    }
   }
  },
  {
   "cell_type": "code",
   "execution_count": null,
   "outputs": [],
   "source": [
    "df_res = df_res.join(df_iqq_res)\n"
   ],
   "metadata": {
    "collapsed": false,
    "pycharm": {
     "name": "#%%\n"
    }
   }
  },
  {
   "cell_type": "markdown",
   "source": [
    "## Inventory Satisfaction Questionaire\n",
    "#"
   ],
   "metadata": {
    "collapsed": false
   }
  },
  {
   "cell_type": "code",
   "execution_count": null,
   "outputs": [],
   "source": [
    "df_isq = pd.concat([get_answers_by_category(df, \"isq-pre\"), get_answers_by_category(df, \"isq-post\")], axis=1)\n",
    "\n",
    "for i in [0, 1, 2, 3, 6]:\n",
    "    df_isq.iloc[:, i] = df_isq.iloc[:, i].apply(lambda x: x * 1000 if x < 100 else x)\n",
    "\n",
    "df_isq[\"Did your standards for satisfaction…\"] = df_isq[\"Did your standards for satisfaction…\"].replace({3: 2, 2: 1, 1: 3})\n",
    "df_isq"
   ],
   "metadata": {
    "collapsed": false,
    "pycharm": {
     "name": "#%%\n"
    }
   }
  },
  {
   "cell_type": "code",
   "execution_count": null,
   "outputs": [],
   "source": [
    "df_isq_res = pd.DataFrame()\n",
    "df_isq_res[\"outcome_satisfaction\"] = df_isq[\"How would you now describe the outcome?\"]\n",
    "df_isq_res[\"compromise\"] = (df_isq[\"For what amount?\"] - df_isq[\"Please fill in the settlement amount which would result in the following levels of satisfaction for you (note: marginally satisfactory must equal the bottom line you've been given in your Confidential Instructions) [Optimal]\"])\n",
    "df_isq_res[\"satisfaction_change\"] = df_isq[\"Did your standards for satisfaction…\"]\n",
    "\n",
    "df_isq_res\n",
    "\n",
    "df_res = df_res.join(df_isq_res)"
   ],
   "metadata": {
    "collapsed": false,
    "pycharm": {
     "name": "#%%\n"
    }
   }
  },
  {
   "cell_type": "markdown",
   "source": [
    "## Self-Other Overlap"
   ],
   "metadata": {
    "collapsed": false,
    "pycharm": {
     "name": "#%% md\n"
    }
   }
  },
  {
   "cell_type": "code",
   "execution_count": null,
   "outputs": [],
   "source": [
    "s_overlap = get_answers_by_category(df, \"overlap\")\n",
    "#s_overlap = group_by_dyad(s_overlap).mean().drop(1).iloc[:, 0]\n",
    "s_overlap.name = \"Overlap\"\n",
    "df_res = df_res.join(s_overlap)\n"
   ],
   "metadata": {
    "collapsed": false,
    "pycharm": {
     "name": "#%%\n"
    }
   }
  },
  {
   "cell_type": "markdown",
   "source": [
    "## Prior Knowledge"
   ],
   "metadata": {
    "collapsed": false,
    "pycharm": {
     "name": "#%% md\n"
    }
   }
  },
  {
   "cell_type": "code",
   "execution_count": null,
   "outputs": [],
   "source": [
    "df_know_res = get_answers_by_category(df, \"acquaintance\")\n",
    "# df_know_res = group_by_dyad(df_know_res).mean()\n",
    "df_know_res = df_know_res.iloc[:,0]\n",
    "df_know_res.name = \"Prior_Knowing\"\n",
    "df_res = df_res.join(df_know_res)"
   ],
   "metadata": {
    "collapsed": false,
    "pycharm": {
     "name": "#%%\n"
    }
   }
  },
  {
   "cell_type": "markdown",
   "source": [
    "## Visualizations"
   ],
   "metadata": {
    "collapsed": false,
    "pycharm": {
     "name": "#%% md\n"
    }
   }
  },
  {
   "cell_type": "code",
   "execution_count": null,
   "outputs": [],
   "source": [
    "df_res.sort_index().to_csv(\"out/result/results_dyadic.csv\")"
   ],
   "metadata": {
    "collapsed": false,
    "pycharm": {
     "name": "#%%\n"
    }
   }
  },
  {
   "cell_type": "code",
   "execution_count": null,
   "outputs": [],
   "source": [
    "import numpy as np\n",
    "import seaborn as sns\n",
    "import matplotlib.pyplot as plt\n",
    "\n",
    "def corr_sig(df=None):\n",
    "    df = df.copy()\n",
    "    p_matrix = np.zeros(shape=(df.shape[1],df.shape[1]))\n",
    "    df = df.fillna(0)\n",
    "    for col in df.columns:\n",
    "        for col2 in df.drop(col,axis=1).columns:\n",
    "            _, p = pearsonr(df[col], df[col2])\n",
    "            p_matrix[df.columns.to_list().index(col), df.columns.to_list().index(col2)] = p\n",
    "    return p_matrix\n",
    "\n",
    "fig, ax = plt.subplots(figsize=(10,10))         # Sample figsize in inches\n",
    "\n",
    "corr = df_res.corr()\n",
    "p_values = corr_sig(df_res)\n",
    "p_mask = np.invert(np.tril(p_values<0.05))\n",
    "\n",
    "annot = corr.copy()\n",
    "for i, row in enumerate(p_values):\n",
    "    for j, val in enumerate(row):\n",
    "        annot.iloc[i, j] = f\"r={annot.iat[i, j]:.2f}\\np={val:.2f}\"\n",
    "\n",
    "\n",
    "sns.heatmap(\n",
    "    corr,\n",
    "    mask=p_mask,\n",
    "    xticklabels=corr.columns,\n",
    "    yticklabels=corr.columns,\n",
    "    annot=annot,\n",
    "    fmt='',\n",
    "    vmin=-1, vmax=1,\n",
    "    cmap=sns.color_palette(\"magma\", as_cmap=True),\n",
    "    ax=ax\n",
    ")\n",
    "\n"
   ],
   "metadata": {
    "collapsed": false,
    "pycharm": {
     "name": "#%%\n"
    }
   }
  }
 ],
 "metadata": {
  "kernelspec": {
   "display_name": "Python 3",
   "language": "python",
   "name": "python3"
  },
  "language_info": {
   "codemirror_mode": {
    "name": "ipython",
    "version": 2
   },
   "file_extension": ".py",
   "mimetype": "text/x-python",
   "name": "python",
   "nbconvert_exporter": "python",
   "pygments_lexer": "ipython2",
   "version": "2.7.6"
  }
 },
 "nbformat": 4,
 "nbformat_minor": 0
}