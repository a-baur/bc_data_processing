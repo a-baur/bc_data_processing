{
 "cells": [
  {
   "cell_type": "code",
   "execution_count": 1,
   "outputs": [],
   "source": [
    "from collections import defaultdict\n",
    "import pandas as pd\n",
    "import os\n",
    "\n",
    "\n",
    "LOGGING_RATE = 0.1\n",
    "\n",
    "def prep_tracking_data(df):\n",
    "    \"\"\" Preprocess facial tracking data of subject \"\"\"\n",
    "    name = df.name\n",
    "    df = df.drop([\"Max\", \"None\", \"26\"], axis=1)\n",
    "    df[\"Time\"] = df[\"Time\"].apply(lambda x: pd.to_datetime(x, unit='ms', origin='unix'))  # Convert time to datetime objects\n",
    "    df = df.set_index(\"Time\")  # Time as index\n",
    "    df.index = df.index.floor(freq=f\"{int(1000 * LOGGING_RATE)}L\")  # Round datetime to ticks\n",
    "    df = df.drop_duplicates()\n",
    "    df.name = name\n",
    "    return df"
   ],
   "metadata": {
    "collapsed": false,
    "pycharm": {
     "name": "#%%\n"
    }
   }
  },
  {
   "cell_type": "code",
   "execution_count": 2,
   "outputs": [
    {
     "ename": "NameError",
     "evalue": "name 'SOURCE_DIR' is not defined",
     "output_type": "error",
     "traceback": [
      "\u001B[1;31m---------------------------------------------------------------------------\u001B[0m",
      "\u001B[1;31mNameError\u001B[0m                                 Traceback (most recent call last)",
      "\u001B[1;32m~\\AppData\\Local\\Temp/ipykernel_5468/3442424751.py\u001B[0m in \u001B[0;36m<module>\u001B[1;34m\u001B[0m\n\u001B[0;32m      1\u001B[0m \u001B[0mdata\u001B[0m \u001B[1;33m=\u001B[0m \u001B[1;33m[\u001B[0m\u001B[1;33m]\u001B[0m  \u001B[1;31m# All facetracking data\u001B[0m\u001B[1;33m\u001B[0m\u001B[1;33m\u001B[0m\u001B[0m\n\u001B[1;32m----> 2\u001B[1;33m \u001B[1;32mfor\u001B[0m \u001B[0m_\u001B[0m\u001B[1;33m,\u001B[0m \u001B[0m_\u001B[0m\u001B[1;33m,\u001B[0m \u001B[0mfiles\u001B[0m \u001B[1;32min\u001B[0m \u001B[0mos\u001B[0m\u001B[1;33m.\u001B[0m\u001B[0mwalk\u001B[0m\u001B[1;33m(\u001B[0m\u001B[0mSOURCE_DIR\u001B[0m\u001B[1;33m)\u001B[0m\u001B[1;33m:\u001B[0m\u001B[1;33m\u001B[0m\u001B[1;33m\u001B[0m\u001B[0m\n\u001B[0m\u001B[0;32m      3\u001B[0m     \u001B[1;32mfor\u001B[0m \u001B[0mf\u001B[0m \u001B[1;32min\u001B[0m \u001B[0mfiles\u001B[0m\u001B[1;33m:\u001B[0m\u001B[1;33m\u001B[0m\u001B[1;33m\u001B[0m\u001B[0m\n\u001B[0;32m      4\u001B[0m         \u001B[0mdf_subj\u001B[0m \u001B[1;33m=\u001B[0m \u001B[0mpd\u001B[0m\u001B[1;33m.\u001B[0m\u001B[0mread_csv\u001B[0m\u001B[1;33m(\u001B[0m\u001B[1;34mfr\"{SOURCE_DIR}\\{f}\"\u001B[0m\u001B[1;33m,\u001B[0m \u001B[0msep\u001B[0m\u001B[1;33m=\u001B[0m\u001B[1;34m'\\t'\u001B[0m\u001B[1;33m)\u001B[0m\u001B[1;33m\u001B[0m\u001B[1;33m\u001B[0m\u001B[0m\n\u001B[0;32m      5\u001B[0m         \u001B[0mname\u001B[0m \u001B[1;33m=\u001B[0m \u001B[0mf\u001B[0m\u001B[1;33m.\u001B[0m\u001B[0mlstrip\u001B[0m\u001B[1;33m(\u001B[0m\u001B[1;34m\"subj_\"\u001B[0m\u001B[1;33m)\u001B[0m\u001B[1;33m.\u001B[0m\u001B[0mrstrip\u001B[0m\u001B[1;33m(\u001B[0m\u001B[1;34m\".tsv\"\u001B[0m\u001B[1;33m)\u001B[0m  \u001B[1;31m# Give dataframe subject id as name\u001B[0m\u001B[1;33m\u001B[0m\u001B[1;33m\u001B[0m\u001B[0m\n",
      "\u001B[1;31mNameError\u001B[0m: name 'SOURCE_DIR' is not defined"
     ]
    }
   ],
   "source": [
    "data = []  # All facetracking data\n",
    "for _, _, files in os.walk(SOURCE_DIR):\n",
    "    for f in files:\n",
    "        df_subj = pd.read_csv(fr\"{SOURCE_DIR}\\{f}\", sep='\\t')\n",
    "        name = f.lstrip(\"subj_\").rstrip(\".tsv\")  # Give dataframe subject id as name\n",
    "        df_subj.name = name\n",
    "        data.append(df_subj)\n",
    "\n",
    "# Combine\n",
    "new_data = []\n",
    "for i, df in enumerate(data):\n",
    "    subj = df.name\n",
    "    if subj.endswith('_a'):\n",
    "        stem_df = data[i-1]\n",
    "        if stem_df.name == subj.rstrip('_a'):\n",
    "            new_df = stem_df.append(df)\n",
    "            new_df.name = subj.rstrip('_a')\n",
    "            new_data.pop()\n",
    "            new_data.append(new_df)\n",
    "        else:\n",
    "            new_data.append(df)\n",
    "    else:\n",
    "        new_data.append(df)\n",
    "data = new_data\n",
    "\n",
    "print(\"Unprocessed face tracking data:\")\n",
    "[d.name for d in data]"
   ],
   "metadata": {
    "collapsed": false,
    "pycharm": {
     "name": "#%%\n"
    }
   }
  },
  {
   "cell_type": "code",
   "execution_count": null,
   "outputs": [],
   "source": [
    "data[0].head()"
   ],
   "metadata": {
    "collapsed": false,
    "pycharm": {
     "name": "#%%\n"
    }
   }
  },
  {
   "cell_type": "code",
   "execution_count": null,
   "outputs": [],
   "source": [
    "data = list(map(prep_tracking_data, data))\n",
    "print(\"Processed face tracking data:\")"
   ],
   "metadata": {
    "collapsed": false,
    "pycharm": {
     "name": "#%%\n"
    }
   }
  },
  {
   "cell_type": "code",
   "execution_count": null,
   "outputs": [],
   "source": [
    "data[3].iloc[225:230][[\"Eye_Left_Blink\", \"Eye_Left_Wide\", \"Mouth_Smile_Left\", \"Mouth_Philtrum_Right\"]]"
   ],
   "metadata": {
    "collapsed": false,
    "pycharm": {
     "name": "#%%\n"
    }
   }
  },
  {
   "cell_type": "code",
   "execution_count": null,
   "outputs": [],
   "source": [
    "tbl = data[3].iloc[225:230][[\"Eye_Left_Blink\", \"Eye_Left_Wide\", \"Mouth_Smile_Left\", \"Mouth_Philtrum_Right\"]].to_latex()\n",
    "with open(\"out/result/fs_exmpl.txt\", 'w') as f:\n",
    "    f.write(tbl)"
   ],
   "metadata": {
    "collapsed": false,
    "pycharm": {
     "name": "#%%\n"
    }
   }
  },
  {
   "cell_type": "code",
   "execution_count": null,
   "outputs": [],
   "source": [
    "data_by_subj = defaultdict(tuple)  # Paired face tracking data sets\n",
    "for df in data:\n",
    "    subj = df.name.split('_')[0]  # e.g. 3_2 -> 3\n",
    "    data_by_subj[subj] += (df,)\n",
    "data_by_subj = dict(data_by_subj)\n",
    "\n",
    "print(\"Data paired by subject:\\n\"\n",
    "      \"========================\")\n",
    "for subj, df_pair in data_by_subj.items():\n",
    "    names = [df.name for df in df_pair]\n",
    "    print(f\"Data for subject {subj}: {names}\")  # Sanity check data"
   ],
   "metadata": {
    "collapsed": false,
    "pycharm": {
     "name": "#%%\n"
    }
   }
  },
  {
   "cell_type": "code",
   "execution_count": null,
   "outputs": [],
   "source": [
    "from importlib import reload\n",
    "from facetracking_helpers import calculations\n",
    "\n",
    "reload(calculations)\n",
    "\n",
    "for subj, pair in data_by_subj.items():\n",
    "    if len(pair) == 2:\n",
    "        pair = calculations.get_overlapping_slice(*pair)\n",
    "        pair = calculations.sync_pair(*pair)\n",
    "        data_by_subj[subj] = pair\n"
   ],
   "metadata": {
    "collapsed": false,
    "pycharm": {
     "name": "#%%\n"
    }
   }
  },
  {
   "cell_type": "code",
   "execution_count": null,
   "outputs": [],
   "source": [
    "# Sanity check\n",
    "for subj, (s1, s2) in data_by_subj.items():\n",
    "    same_start = s1.index[0] == s2.index[0]\n",
    "    same_end = s1.index[-1] == s2.index[-1]\n",
    "    same_len = len(s1.index) == len(s2.index)\n",
    "    if not same_start: print(f\"Data for dyad {subj} does not start at the same time\")\n",
    "    if not same_end: print(f\"Data for dyad {subj} does not start at the end time\")\n",
    "    if not same_len: print(f\"Data for dyad {subj} does not have same length\")\n"
   ],
   "metadata": {
    "collapsed": false,
    "pycharm": {
     "name": "#%%\n"
    }
   }
  },
  {
   "cell_type": "code",
   "execution_count": null,
   "outputs": [],
   "source": [
    "for pair in data_by_subj.values():\n",
    "    if len(pair) == 2:\n",
    "        df1, df2 = pair\n",
    "        df1.to_csv(f\"./prepped_data/facetracking/{df1.name}.csv\")\n",
    "        df2.to_csv(f\"./prepped_data/facetracking/{df2.name}.csv\")\n",
    "\n",
    "print(\"Wrote to files\")"
   ],
   "metadata": {
    "collapsed": false,
    "pycharm": {
     "name": "#%%\n"
    }
   }
  },
  {
   "cell_type": "code",
   "execution_count": null,
   "outputs": [],
   "source": [],
   "metadata": {
    "collapsed": false,
    "pycharm": {
     "name": "#%%\n"
    }
   }
  }
 ],
 "metadata": {
  "kernelspec": {
   "display_name": "Python 3",
   "language": "python",
   "name": "python3"
  },
  "language_info": {
   "codemirror_mode": {
    "name": "ipython",
    "version": 2
   },
   "file_extension": ".py",
   "mimetype": "text/x-python",
   "name": "python",
   "nbconvert_exporter": "python",
   "pygments_lexer": "ipython2",
   "version": "2.7.6"
  }
 },
 "nbformat": 4,
 "nbformat_minor": 0
}