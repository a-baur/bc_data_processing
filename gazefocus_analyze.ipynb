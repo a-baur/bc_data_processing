{
 "cells": [
  {
   "cell_type": "markdown",
   "metadata": {
    "collapsed": true,
    "pycharm": {
     "name": "#%% md\n"
    }
   },
   "source": [
    "# Analysis of focal point of gaze\n",
    "not used in thesis"
   ]
  },
  {
   "cell_type": "code",
   "execution_count": 1,
   "outputs": [
    {
     "data": {
      "text/plain": "19"
     },
     "execution_count": 1,
     "metadata": {},
     "output_type": "execute_result"
    }
   ],
   "source": [
    "import os\n",
    "import pandas as pd\n",
    "\n",
    "conditions = {\n",
    "    \"LipSync\": [5, 6, 7, 8, 9],\n",
    "    \"FaceTracking\": [1, 2, 3, 4, 10],\n",
    "}\n",
    "\n",
    "source = r\"C:\\Users\\alex_\\OneDrive - Universität Hamburg\\Bachelor\\Resultate\\GazeTracking\\\\\"\n",
    "\n",
    "data = []  # All facetracking data\n",
    "for _, _, files in os.walk(source):\n",
    "    for f in files:\n",
    "        df_subj = pd.read_csv(fr\"{source}\\{f}\", sep='\\t', names=[\"collider\", \"time\"])\n",
    "        name = f.lstrip(\"subj_\").rstrip(\".tsv\")  # Give dataframe subject id as name\n",
    "        ts = df_subj[\"time\"].str.replace(',','.').astype(float).values\n",
    "        s_subj = pd.Series(data=ts, index=df_subj[\"collider\"].values)\n",
    "        s_subj.name = name\n",
    "        data.append(s_subj)\n",
    "\n",
    "len(f\"Read {len(data)} data points\")"
   ],
   "metadata": {
    "collapsed": false,
    "pycharm": {
     "name": "#%%\n"
    }
   }
  },
  {
   "cell_type": "code",
   "execution_count": 2,
   "outputs": [
    {
     "data": {
      "text/plain": "HeadCollider (UnityEngine.Transform)             363.112900\nTorsoCollider (UnityEngine.Transform)             49.299820\nUpperLeftArmCollider (UnityEngine.Transform)       7.699995\nLowerLeftArmCollider (UnityEngine.Transform)      11.400010\nLowerRightArmCollider (UnityEngine.Transform)      2.799999\nUpperRightArmCollider (UnityEngine.Transform)      2.799999\nName: 10_1, dtype: float64"
     },
     "execution_count": 2,
     "metadata": {},
     "output_type": "execute_result"
    }
   ],
   "source": [
    "data[0]"
   ],
   "metadata": {
    "collapsed": false,
    "pycharm": {
     "name": "#%%\n"
    }
   }
  },
  {
   "cell_type": "code",
   "execution_count": 3,
   "outputs": [
    {
     "name": "stderr",
     "output_type": "stream",
     "text": [
      "C:\\Users\\alex_\\AppData\\Local\\Temp/ipykernel_15488/3964475515.py:25: FutureWarning: The default value of regex will change from True to False in a future version.\n",
      "  df_sorted.index = df_sorted.index.str.replace(\"\\(UnityEngine.Transform\\)\", \"\")\n"
     ]
    },
    {
     "data": {
      "text/plain": "(UpperRightArmCollider     0.009962\n LowerRightArmCollider     0.018609\n UpperLeftArmCollider           NaN\n TorsoCollider             0.209114\n HeadCollider              0.741262\n LowerLeftArmCollider      0.021053\n Name: LipSync, dtype: float64,\n UpperRightArmCollider     0.016739\n LowerRightArmCollider     0.019813\n UpperLeftArmCollider      0.027329\n TorsoCollider             0.399521\n HeadCollider              0.536598\n LowerLeftArmCollider           NaN\n Name: FaceTracking, dtype: float64)"
     },
     "execution_count": 3,
     "metadata": {},
     "output_type": "execute_result"
    }
   ],
   "source": [
    "s_ls = None\n",
    "s_ft = None\n",
    "\n",
    "for s in data:\n",
    "    if s.index.isnull().any():\n",
    "        continue\n",
    "    name = s.name.split('_')[0]\n",
    "    if int(name) in conditions[\"LipSync\"]:\n",
    "        if not isinstance(s_ls, pd.Series):\n",
    "            s_ls = s\n",
    "        else:\n",
    "            s_ls += s\n",
    "    if int(name) in conditions[\"FaceTracking\"]:\n",
    "        if not isinstance(s_ft, pd.Series):\n",
    "            s_ft = s\n",
    "        else:\n",
    "            s_ft += s\n",
    "\n",
    "s_ls /= s_ls.sum()\n",
    "s_ft /= s_ft.sum()\n",
    "s_ls.name = \"LipSync\"\n",
    "s_ft.name = \"FaceTracking\"\n",
    "\n",
    "df_sorted = pd.DataFrame(data=[s_ls, s_ft]).transpose().sort_values(by=\"FaceTracking\")\n",
    "df_sorted.index = df_sorted.index.str.replace(\"\\(UnityEngine.Transform\\)\", \"\")\n",
    "s_ls = df_sorted[\"LipSync\"]\n",
    "s_ft = df_sorted[\"FaceTracking\"]\n",
    "\n",
    "s_ls.name = \"LipSync\"\n",
    "s_ft.name = \"FaceTracking\"\n",
    "\n",
    "s_ls, s_ft"
   ],
   "metadata": {
    "collapsed": false,
    "pycharm": {
     "name": "#%%\n"
    }
   }
  },
  {
   "cell_type": "code",
   "execution_count": 4,
   "outputs": [
    {
     "data": {
      "text/plain": "<Figure size 432x288 with 1 Axes>",
      "image/png": "[encoded data removed]"
     },
     "metadata": {
      "needs_background": "light"
     },
     "output_type": "display_data"
    }
   ],
   "source": [
    "import matplotlib.pyplot as plt\n",
    "import numpy as np\n",
    "\n",
    "index = np.arange(6)\n",
    "bar_width = 0.35\n",
    "\n",
    "fig, ax = plt.subplots()\n",
    "\n",
    "ls_plot = ax.bar(index, s_ls, bar_width,\n",
    "                 label=\"LipSync\")\n",
    "\n",
    "ft_plot = ax.bar(index+bar_width, s_ft, bar_width,\n",
    "                 label=\"FaceTracking\")\n",
    "\n",
    "ax.set_xlabel('Category')\n",
    "ax.set_title('Crime incidence by season, type')\n",
    "ax.set_xticks(index + bar_width / 2)\n",
    "ax.set_xticklabels(s_ls.index, rotation=-90)\n",
    "ax.legend()\n",
    "\n",
    "plt.show()"
   ],
   "metadata": {
    "collapsed": false,
    "pycharm": {
     "name": "#%%\n"
    }
   }
  },
  {
   "cell_type": "code",
   "execution_count": 4,
   "outputs": [],
   "source": [],
   "metadata": {
    "collapsed": false,
    "pycharm": {
     "name": "#%%\n"
    }
   }
  }
 ],
 "metadata": {
  "kernelspec": {
   "display_name": "Python 3",
   "language": "python",
   "name": "python3"
  },
  "language_info": {
   "codemirror_mode": {
    "name": "ipython",
    "version": 2
   },
   "file_extension": ".py",
   "mimetype": "text/x-python",
   "name": "python",
   "nbconvert_exporter": "python",
   "pygments_lexer": "ipython2",
   "version": "2.7.6"
  }
 },
 "nbformat": 4,
 "nbformat_minor": 0
}